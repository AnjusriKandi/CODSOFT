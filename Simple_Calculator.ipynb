{
  "nbformat": 4,
  "nbformat_minor": 0,
  "metadata": {
    "colab": {
      "provenance": [],
      "authorship_tag": "ABX9TyMIfj9OfFgtjBROL3YT/4F9"
    },
    "kernelspec": {
      "name": "python3",
      "display_name": "Python 3"
    },
    "language_info": {
      "name": "python"
    }
  },
  "cells": [
    {
      "cell_type": "code",
      "execution_count": null,
      "metadata": {
        "id": "EFiSrAmUYR5j"
      },
      "outputs": [],
      "source": [
        "def addition(number1,number2):\n",
        "  return number1+number2                  #returns after adding two numbers"
      ]
    },
    {
      "cell_type": "code",
      "source": [
        "def subtraction(number1,number2):\n",
        "  return number1-number2                  #return subtraction of two numbers"
      ],
      "metadata": {
        "id": "YlePmr7KYwBr"
      },
      "execution_count": null,
      "outputs": []
    },
    {
      "cell_type": "code",
      "source": [
        "def multiplication(number1,number2):\n",
        "  return number1*number2                  #returns mulltiplication of two numbers"
      ],
      "metadata": {
        "id": "ACO1HUppYvDb"
      },
      "execution_count": null,
      "outputs": []
    },
    {
      "cell_type": "code",
      "source": [
        "def division(number1,number2):\n",
        "  return number1/number2                  #returns division"
      ],
      "metadata": {
        "id": "Nkt8oEs7YvCe"
      },
      "execution_count": null,
      "outputs": []
    },
    {
      "cell_type": "code",
      "source": [
        "while 1:                                            #allows the user to give inputs as many as needed\n",
        "   print(\"***********************************\")\n",
        "   print(\"Enter two numbers:\")\n",
        "   num1=float(input())                              #inputs two values\n",
        "   num2=float(input())\n",
        "   print(\"1.Addition(+)\")                           #prompts to select the choice\n",
        "   print(\"2.Subtraction(-)\")\n",
        "   print(\"3.Multiplication(*)\")\n",
        "   print(\"4.Division(/)\")\n",
        "   print(\"5.Clear ALL(CLR)\")                        #continues without displaying the output\n",
        "   print(\"Press any number greater than or equal to 6 to end using calculator\\n\")        #exit\n",
        "   choice=int(input(\"Enter your choice:\"))\n",
        "   if choice==1:                                       #addition\n",
        "     print(num1,'+',num2,'=',addition(num1,num2))\n",
        "   elif choice==2:                                     #subtraction\n",
        "     print(num1,'-',num2,'=',subtraction(num1,num2))\n",
        "   elif choice==3:                                     #multiplication\n",
        "     print(num1,'*',num2,'=',multiplication(num1,num2))\n",
        "   elif choice==4:                                     #division\n",
        "     print(num1,'/',num2,'=',division(num1,num2))\n",
        "   elif choice==5:                                     #clear\n",
        "    continue\n",
        "   else:                                               #end\n",
        "    break"
      ],
      "metadata": {
        "colab": {
          "base_uri": "https://localhost:8080/"
        },
        "id": "FYkBkGgpZ06T",
        "outputId": "f23c28b8-f707-4267-ebb0-77c000254de8"
      },
      "execution_count": null,
      "outputs": [
        {
          "name": "stdout",
          "output_type": "stream",
          "text": [
            "***********************************\n",
            "Enter two numbers:\n",
            "10\n",
            "20\n",
            "1.Addition(+)\n",
            "2.Subtraction(-)\n",
            "3.Multiplication(*)\n",
            "4.Division(/)\n",
            "5.Clear(CLR)\n",
            "Press any number greater than or equal to 6 to end using calculator\n",
            "\n",
            "Enter your choice:1\n",
            "10.0 + 20.0 = 30.0\n",
            "***********************************\n",
            "Enter two numbers:\n",
            "7\n",
            "8\n",
            "1.Addition(+)\n",
            "2.Subtraction(-)\n",
            "3.Multiplication(*)\n",
            "4.Division(/)\n",
            "5.Clear(CLR)\n",
            "Press any number greater than or equal to 6 to end using calculator\n",
            "\n",
            "Enter your choice:9\n"
          ]
        }
      ]
    }
  ]
}