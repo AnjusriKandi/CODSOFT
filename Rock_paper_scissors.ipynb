{
  "nbformat": 4,
  "nbformat_minor": 0,
  "metadata": {
    "colab": {
      "provenance": [],
      "authorship_tag": "ABX9TyOaHD+IZDlYh4/H5ZXX3Hfa"
    },
    "kernelspec": {
      "name": "python3",
      "display_name": "Python 3"
    },
    "language_info": {
      "name": "python"
    }
  },
  "cells": [
    {
      "cell_type": "code",
      "execution_count": 5,
      "metadata": {
        "id": "BE7VfInF2MHt"
      },
      "outputs": [],
      "source": [
        "import random\n"                "generates random choices
      ]
    },
    {
      "cell_type": "code",
      "source": [
        "def play():\n",
        "\n",
        "   choices=[\"rock\",\"paper\",\"scissors\"]\n",
        "   user_choice=input(\"Please choose rock,paper,or scissors:  \").lower()\n",
        "   if user_choice not in choices:\n",
        "      print(\"Invalid choice\")\n",
        "      print(\"\\n__________________________________________________________________\\n\")\n",
        "      return\n",
        "   comp_choice=random.choice(choices)                                   #generating random computer choice\n",
        "   print(\"User's choice      : \",user_choice)\n",
        "   print(\"Computer's choice  : \",comp_choice)\n",
        "   if comp_choice==user_choice:\n",
        "     print(\"It's a Tie!\")\n",
        "   elif user_choice==\"rock\" and comp_choice==\"scissors\":\n",
        "     print(\"You won!\")\n",
        "\n",
        "   elif user_choice==\"paper\" and comp_choice==\"rock\":\n",
        "     print(\"You won!\")\n",
        "\n",
        "   elif user_choice==\"scissors\" and comp_choice==\"paper\":\n",
        "     print(\"You won!\")\n",
        "\n",
        "   else:\n",
        "     print(\"You lost\")\n",
        "   print(\"\\n__________________________________________________________________\\n\")"
      ],
      "metadata": {
        "id": "-PyeQJG12WTl"
      },
      "execution_count": 13,
      "outputs": []
    },
    {
      "cell_type": "code",
      "source": [
        "print(\"Let's Play!\")\n",
        "play()\n",
        "while(1):\n",
        "          print(\"Want to play another round?\")\n",
        "          choice=input(\"Yes or No  \").lower()\n",
        "          if choice=='yes':\n",
        "            play()\n",
        "          elif choice=='no':\n",
        "            break\n",
        "          else:\n",
        "            print(\"Invalid choice\")\n",
        "            print(\"\\n__________________________________________________________________\\n\")\n",
        "print(\"\\nCome back soon...\\nBye Bye\")"
      ],
      "metadata": {
        "colab": {
          "base_uri": "https://localhost:8080/"
        },
        "id": "XZWCowk35ZmZ",
        "outputId": "87381c15-f5a6-4904-d22c-b4c1b11dab36"
      },
      "execution_count": 14,
      "outputs": [
        {
          "output_type": "stream",
          "name": "stdout",
          "text": [
            "Let's Play!\n",
            "Please choose rock,paper,or scissors:  rock\n",
            "User's choice      :  rock\n",
            "Computer's choice  :  scissors\n",
            "You won!\n",
            "\n",
            "__________________________________________________________________\n",
            "\n",
            "Want to play another round?\n",
            "Yes or No  yes\n",
            "Please choose rock,paper,or scissors:  paper\n",
            "User's choice      :  paper\n",
            "Computer's choice  :  rock\n",
            "You won!\n",
            "\n",
            "__________________________________________________________________\n",
            "\n",
            "Want to play another round?\n",
            "Yes or No  no\n",
            "\n",
            "Come back soon...\n",
            "Bye Bye\n"
          ]
        }
      ]
    }
  ]
}
